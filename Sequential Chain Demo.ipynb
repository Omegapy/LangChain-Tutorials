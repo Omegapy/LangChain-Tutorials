{
 "cells": [
  {
   "cell_type": "markdown",
   "source": [
    "# Sequential Chain Demo.: LangChain Intro. Tutorial\n",
    "\n",
    " Alejandro Ricciardi (Omegapy)  \n",
    " created date: 12/22/2023\n",
    " GitHub: https://github.com/Omegapy\n",
    "\n",
    "Projects Description:\n",
    "LangChain Tutorials based on Data Science Garage's YouTube video: https://www.youtube.com/watch?v=J7n9e0eSoKg\n",
    "- Templates - Prompts - Chains\n",
    "- Build a Sequential Chain\n",
    "- Load Local File: Query it using Sequential Chain\n"
   ],
   "metadata": {
    "collapsed": false
   },
   "id": "93e91f1effff518"
  },
  {
   "cell_type": "markdown",
   "source": [
    "### API Keys\n",
    "\n",
    "This project you require API keys from:\n",
    "OpenAI: https://openai.com/"
   ],
   "metadata": {
    "collapsed": false
   },
   "id": "e62f2844bf4b9b98"
  },
  {
   "cell_type": "code",
   "outputs": [
    {
     "data": {
      "text/plain": "True"
     },
     "execution_count": 4,
     "metadata": {},
     "output_type": "execute_result"
    }
   ],
   "source": [
    "# Load environment variables API Keys\n",
    "\n",
    "from dotenv import load_dotenv, find_dotenv\n",
    "\n",
    "load_dotenv(find_dotenv())\n",
    "     "
   ],
   "metadata": {
    "collapsed": false,
    "ExecuteTime": {
     "end_time": "2023-12-23T01:47:03.317142900Z",
     "start_time": "2023-12-23T01:47:03.311409300Z"
    }
   },
   "id": "38bc224e51864ae9",
   "execution_count": 4
  },
  {
   "cell_type": "markdown",
   "source": [
    "### Large Language Model (llm)"
   ],
   "metadata": {
    "collapsed": false
   },
   "id": "b1a6c5e16115f2aa"
  },
  {
   "cell_type": "code",
   "outputs": [],
   "source": [
    "# Init. llm\n",
    "from langchain.llms import OpenAI\n",
    "llm_davinci = OpenAI(model_name=\"text-davinci-003\")"
   ],
   "metadata": {
    "collapsed": false,
    "ExecuteTime": {
     "end_time": "2023-12-23T01:46:52.165081600Z",
     "start_time": "2023-12-23T01:46:51.425607300Z"
    }
   },
   "id": "bfef4eee0ac2d782",
   "execution_count": 3
  },
  {
   "cell_type": "markdown",
   "source": [
    "### Templates - Prompts - Chains"
   ],
   "metadata": {
    "collapsed": false
   },
   "id": "58ca1d3b5c5e93ae"
  },
  {
   "cell_type": "code",
   "outputs": [],
   "source": [
    "from langchain.prompts.chat import ChatPromptTemplate\n",
    "from langchain.chains import LLMChain, SequentialChain"
   ],
   "metadata": {
    "collapsed": false,
    "ExecuteTime": {
     "end_time": "2023-12-23T01:48:28.475240200Z",
     "start_time": "2023-12-23T01:48:27.835405300Z"
    }
   },
   "id": "c7e328a8c51b3c5a",
   "execution_count": 5
  },
  {
   "cell_type": "code",
   "outputs": [],
   "source": [
    "# --- Chain-1\n",
    "template_1 = \"Give a summary of this employee's performance review\\n{review}\"\n",
    "prompt_1 = ChatPromptTemplate.from_template(template_1)\n",
    "chain_1 = LLMChain(\n",
    "    llm=llm_davinci,\n",
    "    prompt=prompt_1,\n",
    "    output_key='review_summary'\n",
    ")\n",
    "# --- Chain-2\n",
    "template_2 = \"Identify key employee weaknesses in this review summary\\n{review_summary}\"\n",
    "prompt_2 = ChatPromptTemplate.from_template(template_2)\n",
    "chain_2 = LLMChain(\n",
    "    llm=llm_davinci, # Note: Another LLM could be use here\n",
    "    prompt=prompt_2,\n",
    "    output_key='weaknesses'\n",
    ")\n",
    "# --- Chain-3\n",
    "template_3 = \"Create a personalized plan to help address and fix these weaknesses\\n{weaknesses}\"\n",
    "prompt_3 = ChatPromptTemplate.from_template(template_3)\n",
    "chain_3 = LLMChain(\n",
    "    llm=llm_davinci,\n",
    "    prompt=prompt_3,\n",
    "    output_key='final_plan'\n",
    ")"
   ],
   "metadata": {
    "collapsed": false,
    "ExecuteTime": {
     "end_time": "2023-12-23T01:51:18.223691Z",
     "start_time": "2023-12-23T01:51:18.218960600Z"
    }
   },
   "id": "c42c067fc6a50734",
   "execution_count": 7
  },
  {
   "cell_type": "markdown",
   "source": [
    "### Build a Sequential Chain\n",
    "https://python.langchain.com/docs/modules/chains/foundational/sequential_chains"
   ],
   "metadata": {
    "collapsed": false
   },
   "id": "af132b3b6e02c604"
  },
  {
   "cell_type": "code",
   "outputs": [],
   "source": [
    "seq_chain = SequentialChain(\n",
    "    chains=[chain_1, chain_2, chain_3],\n",
    "    input_variables=['review'],\n",
    "    output_variables=['review_summary', 'weaknesses', 'final_plan'],\n",
    "    verbose=True\n",
    ")"
   ],
   "metadata": {
    "collapsed": false,
    "ExecuteTime": {
     "end_time": "2023-12-23T01:52:43.307600700Z",
     "start_time": "2023-12-23T01:52:43.297362800Z"
    }
   },
   "id": "d35227009624e9b",
   "execution_count": 8
  },
  {
   "cell_type": "markdown",
   "source": [
    "### Load Local File : Query it using Sequential Chain"
   ],
   "metadata": {
    "collapsed": false
   },
   "id": "6dc3d2a5a41e29b"
  },
  {
   "cell_type": "code",
   "outputs": [],
   "source": [
    "with open('employee_review.txt') as f:\n",
    "    employee_review = f.readlines()"
   ],
   "metadata": {
    "collapsed": false,
    "ExecuteTime": {
     "end_time": "2023-12-23T02:01:41.011969400Z",
     "start_time": "2023-12-23T02:01:41.002822700Z"
    }
   },
   "id": "a81e6706f4173926",
   "execution_count": 9
  },
  {
   "cell_type": "code",
   "outputs": [
    {
     "name": "stdout",
     "output_type": "stream",
     "text": [
      "\n",
      "\n",
      "\u001B[1m> Entering new SequentialChain chain...\u001B[0m\n",
      "\n",
      "\u001B[1m> Finished chain.\u001B[0m\n",
      "<class 'dict'>\n",
      "<built-in method keys of dict object at 0x0000022C4C4028C0>\n",
      "----------------------------------------------------------------------------------------------------\n",
      "\n",
      "\n",
      "Personalized Plan:\n",
      "\n",
      "1. Time Management: \n",
      "- Implement a 30-minute time block system to help break up tasks into manageable chunks. \n",
      "- Create a daily schedule and prioritize tasks in order of importance. \n",
      "- Take regular breaks throughout the day to help stay focused on the task at hand. \n",
      "\n",
      "2. Written Communication: \n",
      "- Take the time to proofread all written communication before submitting. \n",
      "- Utilize online resources such as Grammarly to help identify and correct errors. \n",
      "- Utilize templates and create a style guide to ensure consistency across all written communication. \n",
      "\n",
      "3. Delegation of Tasks: \n",
      "- Take the time to evaluate each task to properly identify the best person to delegate it to. \n",
      "- Make sure to provide clear instructions and expectations when delegating tasks. \n",
      "- Create a system for tracking progress to ensure tasks are completed in a timely manner.\n"
     ]
    }
   ],
   "source": [
    "results = seq_chain(employee_review)\n",
    "\n",
    "print(type(results))\n",
    "print(results.keys)\n",
    "print('--'*50)\n",
    "print(results['final_plan'])"
   ],
   "metadata": {
    "collapsed": false,
    "ExecuteTime": {
     "end_time": "2023-12-23T02:02:14.367025200Z",
     "start_time": "2023-12-23T02:02:09.067809900Z"
    }
   },
   "id": "b2086318e9564f1b",
   "execution_count": 10
  },
  {
   "cell_type": "code",
   "outputs": [],
   "source": [],
   "metadata": {
    "collapsed": false
   },
   "id": "7249badb0cccbea1"
  }
 ],
 "metadata": {
  "kernelspec": {
   "display_name": "Python 3",
   "language": "python",
   "name": "python3"
  },
  "language_info": {
   "codemirror_mode": {
    "name": "ipython",
    "version": 2
   },
   "file_extension": ".py",
   "mimetype": "text/x-python",
   "name": "python",
   "nbconvert_exporter": "python",
   "pygments_lexer": "ipython2",
   "version": "2.7.6"
  }
 },
 "nbformat": 4,
 "nbformat_minor": 5
}
